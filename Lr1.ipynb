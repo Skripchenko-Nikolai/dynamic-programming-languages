{
  "nbformat": 4,
  "nbformat_minor": 0,
  "metadata": {
    "colab": {
      "provenance": [],
      "authorship_tag": "ABX9TyOCBvUlg4moAYXvhOV6wqkM",
      "include_colab_link": true
    },
    "kernelspec": {
      "name": "python3",
      "display_name": "Python 3"
    },
    "language_info": {
      "name": "python"
    }
  },
  "cells": [
    {
      "cell_type": "markdown",
      "metadata": {
        "id": "view-in-github",
        "colab_type": "text"
      },
      "source": [
        "<a href=\"https://colab.research.google.com/github/Skripchenko-Nikolai/dynamic-programming-languages/blob/main/Lr1.ipynb\" target=\"_parent\"><img src=\"https://colab.research.google.com/assets/colab-badge.svg\" alt=\"Open In Colab\"/></a>"
      ]
    },
    {
      "cell_type": "code",
      "execution_count": 73,
      "metadata": {
        "id": "aoR61_mQCkBI"
      },
      "outputs": [],
      "source": [
        "import pandas as pd\n",
        "from sklearn.model_selection import train_test_split\n",
        "from sklearn.neighbors import KNeighborsClassifier\n",
        "from sklearn.preprocessing import StandardScaler\n",
        "from sklearn.preprocessing import LabelEncoder\n",
        "from sklearn.metrics import classification_report, accuracy_score"
      ]
    },
    {
      "cell_type": "code",
      "source": [
        "data = pd.read_csv('data/Realistic_Medical_Dataset.csv')\n",
        "\n",
        "print(f\"Количество строк: {data.shape[0]}\")\n",
        "print(f\"Количество столбцов: {data.shape[1]}\")\n",
        "print(\"Типы данных:\")\n",
        "print(data.dtypes)"
      ],
      "metadata": {
        "colab": {
          "base_uri": "https://localhost:8080/"
        },
        "id": "ndS-PDAE63Wu",
        "outputId": "0e2005db-a9ea-45f3-f14d-d1598db80fac"
      },
      "execution_count": 74,
      "outputs": [
        {
          "output_type": "stream",
          "name": "stdout",
          "text": [
            "Количество строк: 10000\n",
            "Количество столбцов: 15\n",
            "Типы данных:\n",
            "Name                  object\n",
            "Gender                object\n",
            "Diagnosis             object\n",
            "Description           object\n",
            "Doctor                object\n",
            "Hospital              object\n",
            "Department            object\n",
            "Start Date            object\n",
            "End Date              object\n",
            "Blood Type            object\n",
            "Cholesterol Level    float64\n",
            "Blood Sugar Level    float64\n",
            "Pulse                  int64\n",
            "Pressure              object\n",
            "Complaints            object\n",
            "dtype: object\n"
          ]
        }
      ]
    },
    {
      "cell_type": "code",
      "source": [
        "scaler = StandardScaler()\n",
        "label_encoder = LabelEncoder()\n",
        "model = KNeighborsClassifier(n_neighbors=1)\n",
        "\n",
        "# Убираем target column\n",
        "new_data = data.drop(['Diagnosis'], axis=1)\n",
        "\n",
        "# Выполяенм преобразование данных\n",
        "for column in new_data.columns:\n",
        "    if new_data[column].dtype == 'object':\n",
        "        new_data[column] = label_encoder.fit_transform(new_data[column])\n",
        "# Обучаем scaler на data_set\n",
        "scaler.fit(new_data)\n",
        "#Выполняем стандартизацию всех признаков\n",
        "scaled_features = scaler.transform(new_data)\n",
        "scaled_data = pd.DataFrame(scaled_features, columns = new_data.columns)\n",
        "\n",
        "# Разделение датасета на обучающиеся и тестовые данные\n",
        "x = scaled_data\n",
        "y = data['Diagnosis']\n",
        "x_train_data, x_test_data, y_train_data, y_test_data = train_test_split(x, y, test_size=0.3, random_state=42)\n",
        "\n",
        "# Обучение модели K-ближайших соседей\n",
        "model.fit(x_train_data, y_train_data)\n",
        "\n",
        "# Делаем предсказание\n",
        "predictions = model.predict(x_test_data)\n",
        "# Создаем и выводим отчет\n",
        "print(classification_report(y_test_data, predictions))\n",
        "# Создание и вывод точности\n",
        "print(accuracy_score(y_test_data, predictions))"
      ],
      "metadata": {
        "colab": {
          "base_uri": "https://localhost:8080/"
        },
        "id": "mpRK6rr6Z0Jz",
        "outputId": "430d67d3-d9c4-4cf9-834c-ac1b33690366"
      },
      "execution_count": 75,
      "outputs": [
        {
          "output_type": "stream",
          "name": "stdout",
          "text": [
            "              precision    recall  f1-score   support\n",
            "\n",
            "      Asthma       0.74      0.72      0.73       738\n",
            "  Depression       0.76      0.70      0.73       754\n",
            "    Diabetes       0.54      0.57      0.55       758\n",
            "Hypertension       0.53      0.56      0.54       750\n",
            "\n",
            "    accuracy                           0.64      3000\n",
            "   macro avg       0.64      0.64      0.64      3000\n",
            "weighted avg       0.64      0.64      0.64      3000\n",
            "\n",
            "0.6363333333333333\n"
          ]
        }
      ]
    }
  ]
}