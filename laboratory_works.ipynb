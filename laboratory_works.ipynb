{
  "nbformat": 4,
  "nbformat_minor": 0,
  "metadata": {
    "colab": {
      "provenance": [],
      "toc_visible": true,
      "authorship_tag": "ABX9TyP4PzAyfa5y9pRZET8VIZf3"
    },
    "kernelspec": {
      "name": "python3",
      "display_name": "Python 3"
    },
    "language_info": {
      "name": "python"
    }
  },
  "cells": [
    {
      "cell_type": "markdown",
      "source": [
        "#Лабораторная работа **1**\n",
        "\n",
        "[Задание](https://artemiikabanov.notion.site/1-80e692e92f6240d7af807db090400bb6): Найти набор данных и провести классификацию методом k- ближайших соседей."
      ],
      "metadata": {
        "id": "B9aunET3-Wul"
      }
    },
    {
      "cell_type": "code",
      "execution_count": 243,
      "metadata": {
        "id": "aoR61_mQCkBI"
      },
      "outputs": [],
      "source": [
        "import pandas as pd\n",
        "from sklearn.model_selection import train_test_split\n",
        "from sklearn.neighbors import KNeighborsClassifier\n",
        "from sklearn.preprocessing import StandardScaler\n",
        "from sklearn.preprocessing import LabelEncoder\n",
        "from sklearn.metrics import classification_report, accuracy_score\n",
        "from sklearn import svm"
      ]
    },
    {
      "cell_type": "code",
      "source": [
        "data = pd.read_csv('data/Realistic_Medical_Dataset.csv')\n",
        "\n",
        "print(f\"Количество строк: {data.shape[0]}\")\n",
        "print(f\"Количество столбцов: {data.shape[1]}\")\n",
        "print(\"Типы данных:\")\n",
        "print(data.dtypes)"
      ],
      "metadata": {
        "colab": {
          "base_uri": "https://localhost:8080/"
        },
        "id": "ndS-PDAE63Wu",
        "outputId": "4e0b2b4e-e8ad-4abc-da79-41c1508c7d25"
      },
      "execution_count": 244,
      "outputs": [
        {
          "output_type": "stream",
          "name": "stdout",
          "text": [
            "Количество строк: 10000\n",
            "Количество столбцов: 15\n",
            "Типы данных:\n",
            "Name                  object\n",
            "Gender                object\n",
            "Diagnosis             object\n",
            "Description           object\n",
            "Doctor                object\n",
            "Hospital              object\n",
            "Department            object\n",
            "Start Date            object\n",
            "End Date              object\n",
            "Blood Type            object\n",
            "Cholesterol Level    float64\n",
            "Blood Sugar Level    float64\n",
            "Pulse                  int64\n",
            "Pressure              object\n",
            "Complaints            object\n",
            "dtype: object\n"
          ]
        }
      ]
    },
    {
      "cell_type": "code",
      "source": [
        "scaler = StandardScaler()\n",
        "label_encoder = LabelEncoder()\n",
        "model = KNeighborsClassifier(n_neighbors=1)\n",
        "\n",
        "# target - Diagonesn, поэтому убираем из датасета этот параметр\n",
        "remove_data = data.drop(['Diagnosis'], axis=1)\n",
        "\n",
        "# Преобразование данных\n",
        "for column in remove_data.columns:\n",
        "    if remove_data[column].dtype == 'object':\n",
        "        remove_data[column] = label_encoder.fit_transform(remove_data[column])\n",
        "\n",
        "# Обучение Scarler и стандартизация признаков\n",
        "scaler.fit(remove_data)\n",
        "scaled_features = scaler.transform(remove_data)\n",
        "scaled_data = pd.DataFrame(scaled_features, columns = remove_data.columns)\n",
        "\n",
        "# Разделение датасета на обучающиеся и тестовые данные\n",
        "x = scaled_data\n",
        "y = data['Diagnosis']\n",
        "x_train_data, x_test_data, y_train_data, y_test_data = train_test_split(x, y, test_size=0.3, random_state=42)\n",
        "\n",
        "# Обучение модели\n",
        "model.fit(x_train_data, y_train_data)\n",
        "\n",
        "# Предсказание\n",
        "predictions = model.predict(x_test_data)\n",
        "\n",
        "# Создание и вывод отчета и точности\n",
        "print(classification_report(y_test_data, predictions))\n",
        "print(accuracy_score(y_test_data, predictions))"
      ],
      "metadata": {
        "colab": {
          "base_uri": "https://localhost:8080/"
        },
        "id": "_6v30tOkiovD",
        "outputId": "8a622966-d478-403f-83f1-7d790723af9a"
      },
      "execution_count": 250,
      "outputs": [
        {
          "output_type": "stream",
          "name": "stdout",
          "text": [
            "              precision    recall  f1-score   support\n",
            "\n",
            "           0       0.74      0.72      0.73       738\n",
            "           1       0.76      0.70      0.73       754\n",
            "           2       0.54      0.57      0.55       758\n",
            "           3       0.53      0.56      0.54       750\n",
            "\n",
            "    accuracy                           0.64      3000\n",
            "   macro avg       0.64      0.64      0.64      3000\n",
            "weighted avg       0.64      0.64      0.64      3000\n",
            "\n",
            "0.6363333333333333\n"
          ]
        }
      ]
    },
    {
      "cell_type": "markdown",
      "source": [
        "# Лабораторная работа 2\n",
        "\n",
        "[Задание](https://artemiikabanov.notion.site/2-ffac675dbf1f408a9f23e71889d70d61): Провести классификацию dataset методом машины опорных векторов."
      ],
      "metadata": {
        "id": "mvfL6Sgp-rdK"
      }
    },
    {
      "cell_type": "code",
      "source": [
        "import pandas as pd\n",
        "from sklearn.model_selection import train_test_split\n",
        "from sklearn.neighbors import KNeighborsClassifier\n",
        "from sklearn.preprocessing import StandardScaler\n",
        "from sklearn.preprocessing import LabelEncoder\n",
        "from sklearn.metrics import classification_report, accuracy_score\n",
        "from sklearn import svm"
      ],
      "metadata": {
        "id": "z3VD1hKE-yw0"
      },
      "execution_count": 92,
      "outputs": []
    },
    {
      "cell_type": "code",
      "source": [
        "data = pd.read_csv('data/Realistic_Medical_Dataset.csv')\n",
        "\n",
        "print(f\"Количество строк: {data.shape[0]}\")\n",
        "print(f\"Количество столбцов: {data.shape[1]}\")\n",
        "print(\"Типы данных:\")\n",
        "print(data.dtypes)"
      ],
      "metadata": {
        "colab": {
          "base_uri": "https://localhost:8080/"
        },
        "id": "5I-rrIYnnYy-",
        "outputId": "47f8c331-f967-467d-9639-589b5fcca7f1"
      },
      "execution_count": 251,
      "outputs": [
        {
          "output_type": "stream",
          "name": "stdout",
          "text": [
            "Количество строк: 10000\n",
            "Количество столбцов: 15\n",
            "Типы данных:\n",
            "Name                  object\n",
            "Gender                object\n",
            "Diagnosis             object\n",
            "Description           object\n",
            "Doctor                object\n",
            "Hospital              object\n",
            "Department            object\n",
            "Start Date            object\n",
            "End Date              object\n",
            "Blood Type            object\n",
            "Cholesterol Level    float64\n",
            "Blood Sugar Level    float64\n",
            "Pulse                  int64\n",
            "Pressure              object\n",
            "Complaints            object\n",
            "dtype: object\n"
          ]
        }
      ]
    },
    {
      "cell_type": "code",
      "source": [
        "scaler = StandardScaler()\n",
        "label_encoder = LabelEncoder()\n",
        "model = svm.SVC(kernel='poly', degree=2)\n",
        "\n",
        "# target - Diagonesn, поэтому убираем из датасета этот параметр\n",
        "new_data = data.drop(['Diagnosis'], axis=1)\n",
        "\n",
        "# Преобразование данных\n",
        "for column in new_data.columns:\n",
        "    if new_data[column].dtype == 'object':\n",
        "        new_data[column] = label_encoder.fit_transform(new_data[column])\n",
        "\n",
        "# Обучение scaler и стандартизация признаков\n",
        "scaler.fit(new_data)\n",
        "scaled_features = scaler.transform(new_data)\n",
        "scaled_data = pd.DataFrame(scaled_features, columns = new_data.columns)\n",
        "\n",
        "# Разделение датасета на обучающиеся и тестовые данные\n",
        "x = scaled_data\n",
        "y = data['Diagnosis']\n",
        "x_train_data, x_test_data, y_train_data, y_test_data = train_test_split(x, y, test_size=0.3, random_state=42)\n",
        "\n",
        "# Обучение модели методом опорных векторов\n",
        "model.fit(x_train_data, y_train_data)\n",
        "\n",
        "# Предсказание\n",
        "predictions = model.predict(x_test_data)\n",
        "\n",
        "# Создание и вывод отчета и точности\n",
        "print(classification_report(y_test_data, predictions))\n",
        "print(accuracy_score(y_test_data, predictions))"
      ],
      "metadata": {
        "colab": {
          "base_uri": "https://localhost:8080/"
        },
        "id": "tqYyCgosBD1-",
        "outputId": "2ce959ca-14cd-410f-a587-00ab86004715"
      },
      "execution_count": 252,
      "outputs": [
        {
          "output_type": "stream",
          "name": "stdout",
          "text": [
            "              precision    recall  f1-score   support\n",
            "\n",
            "      Asthma       0.50      0.66      0.56       738\n",
            "  Depression       0.51      0.34      0.41       754\n",
            "    Diabetes       0.51      0.51      0.51       758\n",
            "Hypertension       0.51      0.51      0.51       750\n",
            "\n",
            "    accuracy                           0.50      3000\n",
            "   macro avg       0.51      0.51      0.50      3000\n",
            "weighted avg       0.51      0.50      0.50      3000\n",
            "\n",
            "0.5043333333333333\n"
          ]
        }
      ]
    },
    {
      "cell_type": "markdown",
      "source": [
        "# Лабораторная работа 3\n",
        "\n",
        "[Задание](https://artemiikabanov.notion.site/3-683008e8b83f4926b099cc4efb64e600): Провести классификацию dataset методами линейной и логической регрессий."
      ],
      "metadata": {
        "id": "Iqdpp4VzB19r"
      }
    },
    {
      "cell_type": "code",
      "source": [
        "import pandas as pd\n",
        "from sklearn.model_selection import train_test_split\n",
        "from sklearn.linear_model import LogisticRegression, LinearRegression\n",
        "from sklearn.metrics import accuracy_score, mean_squared_error\n",
        "from sklearn.preprocessing import StandardScaler, LabelEncoder\n",
        "from sklearn.metrics import classification_report, accuracy_score"
      ],
      "metadata": {
        "id": "DLf0N6w-B6Cv"
      },
      "execution_count": 153,
      "outputs": []
    },
    {
      "cell_type": "code",
      "source": [
        "data = pd.read_csv('data/Realistic_Medical_Dataset.csv')\n",
        "\n",
        "print(f\"Количество строк: {data.shape[0]}\")\n",
        "print(f\"Количество столбцов: {data.shape[1]}\")\n",
        "print(\"Типы данных:\")\n",
        "print(data.dtypes)"
      ],
      "metadata": {
        "colab": {
          "base_uri": "https://localhost:8080/"
        },
        "id": "gqBVw7g9B_bS",
        "outputId": "eae802e4-73f9-400a-a77c-4b4acac0c875"
      },
      "execution_count": 154,
      "outputs": [
        {
          "output_type": "stream",
          "name": "stdout",
          "text": [
            "Количество строк: 10000\n",
            "Количество столбцов: 15\n",
            "Типы данных:\n",
            "Name                  object\n",
            "Gender                object\n",
            "Diagnosis             object\n",
            "Description           object\n",
            "Doctor                object\n",
            "Hospital              object\n",
            "Department            object\n",
            "Start Date            object\n",
            "End Date              object\n",
            "Blood Type            object\n",
            "Cholesterol Level    float64\n",
            "Blood Sugar Level    float64\n",
            "Pulse                  int64\n",
            "Pressure              object\n",
            "Complaints            object\n",
            "dtype: object\n"
          ]
        }
      ]
    },
    {
      "cell_type": "code",
      "source": [
        "scaler_lin = StandardScaler()\n",
        "scaler_log = StandardScaler()\n",
        "model_lin = LinearRegression()\n",
        "model_log = LogisticRegression()\n",
        "\n",
        "# Преобразование данных\n",
        "for column in new_data.columns:\n",
        "    if data[column].dtype == 'object':\n",
        "        data[column] = label_encoder.fit_transform(data[column])\n",
        "\n",
        "# Линейная регрессия для предсказания уровня холестерина на основе других признаков, а именно пол, пульс, давление, уровень сахара в крови\n",
        "# Предварительная обработка данных для линейной регрессии\n",
        "features_lin = ['Gender', 'Pulse', 'Pressure', 'Blood Sugar Level']\n",
        "target_lin = 'Cholesterol Level'\n",
        "\n",
        "# Разделение данных на признаки и целевую переменную\n",
        "X_lin = data[features_lin]\n",
        "y_lin = data[target_lin]\n",
        "\n",
        "# Разделение на обучающую и тестовую выборку\n",
        "X_train_lin, X_test_lin, y_train_lin, y_test_lin = train_test_split(X_lin, y_lin, test_size=0.3, random_state=42)\n",
        "\n",
        "# Масштабирование числовых данных\n",
        "X_train_lin = scaler_lin.fit_transform(X_train_lin)\n",
        "X_test_lin = scaler_lin.transform(X_test_lin)\n",
        "\n",
        "# Обучение модели линейной регрессии\n",
        "model_lin.fit(X_train_lin, y_train_lin)\n",
        "\n",
        "# Предсказание и оценка модели линейной регрессии\n",
        "y_pred_lin = model_lin.predict(X_test_lin)\n",
        "mse_lin = mean_squared_error(y_test_lin, y_pred_lin)\n",
        "\n",
        "# Среднеквадратичная ошибка\n",
        "print(mse_lin)\n",
        "\n",
        "# Логистическая регрессия для классификации наличия гипертонии на основе медицинских показателей\n",
        "# Предварительная обработка данных для логистической регрессии\n",
        "data['Is_Hypertension'] = data['Diagnosis'].apply(lambda x: 1 if x == 'Hypertension' else 0)\n",
        "\n",
        "features_log = ['Gender', 'Cholesterol Level', 'Blood Sugar Level', 'Pulse', 'Pressure']\n",
        "target_log = 'Is_Hypertension'\n",
        "\n",
        "X_log = data[features_log]\n",
        "y_log = data[target_log]\n",
        "\n",
        "# Разделение на обучающую и тестовую выборку\n",
        "X_train_log, X_test_log, y_train_log, y_test_log = train_test_split(X_log, y_log, test_size=0.3, random_state=42)\n",
        "\n",
        "# Масштабирование числовых данных\n",
        "X_train_log = scaler_log.fit_transform(X_train_log)\n",
        "X_test_log = scaler_log.transform(X_test_log)\n",
        "\n",
        "# Обучение модели логистической регрессии\n",
        "model_log.fit(X_train_log, y_train_log)\n",
        "\n",
        "# Предсказание и оценка модели логистической регрессии\n",
        "y_pred_log = model_log.predict(X_test_log)\n",
        "accuracy_log = accuracy_score(y_test_log, y_pred_log)\n",
        "\n",
        "# Вывод отчета\n",
        "print(classification_report(y_test_log, y_pred_log, zero_division=1))\n",
        "# Вывод точности\n",
        "print(accuracy_log)"
      ],
      "metadata": {
        "colab": {
          "base_uri": "https://localhost:8080/"
        },
        "id": "mb-FTlZSCB0K",
        "outputId": "27f65e5f-7614-4f9b-9209-260f08ced8f3"
      },
      "execution_count": 253,
      "outputs": [
        {
          "output_type": "stream",
          "name": "stdout",
          "text": [
            "664.3682414385165\n",
            "              precision    recall  f1-score   support\n",
            "\n",
            "           0       0.75      1.00      0.86      2250\n",
            "           1       1.00      0.00      0.00       750\n",
            "\n",
            "    accuracy                           0.75      3000\n",
            "   macro avg       0.88      0.50      0.43      3000\n",
            "weighted avg       0.81      0.75      0.64      3000\n",
            "\n",
            "0.75\n"
          ]
        }
      ]
    },
    {
      "cell_type": "markdown",
      "source": [
        "# Лабораторная работа 4\n",
        "\n",
        "[Задание](https://artemiikabanov.notion.site/4-2cfb349132074514a002749efac0bf8d): Провести классификацию dataset методами наивного Байеса."
      ],
      "metadata": {
        "id": "amF1umgFRuGm"
      }
    },
    {
      "cell_type": "code",
      "source": [
        "import pandas as pd\n",
        "from sklearn.model_selection import train_test_split\n",
        "from sklearn.neighbors import KNeighborsClassifier\n",
        "from sklearn.preprocessing import StandardScaler\n",
        "from sklearn.preprocessing import LabelEncoder\n",
        "from sklearn.metrics import classification_report, accuracy_score\n",
        "from sklearn.naive_bayes import GaussianNB"
      ],
      "metadata": {
        "id": "BM4wmoYRRy8Z"
      },
      "execution_count": 186,
      "outputs": []
    },
    {
      "cell_type": "code",
      "source": [
        "data = pd.read_csv('data/Realistic_Medical_Dataset.csv')\n",
        "\n",
        "print(f\"Количество строк: {data.shape[0]}\")\n",
        "print(f\"Количество столбцов: {data.shape[1]}\")\n",
        "print(\"Типы данных:\")\n",
        "print(data.dtypes)"
      ],
      "metadata": {
        "colab": {
          "base_uri": "https://localhost:8080/"
        },
        "id": "LSGchbvSSQbM",
        "outputId": "f1ff0e79-baf0-44dd-da73-77792f6b9078"
      },
      "execution_count": 187,
      "outputs": [
        {
          "output_type": "stream",
          "name": "stdout",
          "text": [
            "Количество строк: 10000\n",
            "Количество столбцов: 15\n",
            "Типы данных:\n",
            "Name                  object\n",
            "Gender                object\n",
            "Diagnosis             object\n",
            "Description           object\n",
            "Doctor                object\n",
            "Hospital              object\n",
            "Department            object\n",
            "Start Date            object\n",
            "End Date              object\n",
            "Blood Type            object\n",
            "Cholesterol Level    float64\n",
            "Blood Sugar Level    float64\n",
            "Pulse                  int64\n",
            "Pressure              object\n",
            "Complaints            object\n",
            "dtype: object\n"
          ]
        }
      ]
    },
    {
      "cell_type": "code",
      "source": [
        "label_encoder = LabelEncoder()\n",
        "model = GaussianNB()\n",
        "\n",
        "# Удаление ненужных признаков\n",
        "remove_data = data.drop(['Name', 'Hospital', 'Department', 'Start Date', 'End Date'], axis=1)\n",
        "\n",
        "# Преобразование данных\n",
        "for column in remove_data.columns:\n",
        "    if remove_data[column].dtype == 'object':\n",
        "        remove_data[column] = label_encoder.fit_transform(remove_data[column])\n",
        "\n",
        "# Разделение датасета на обучающиеся и тестовые данные\n",
        "x = remove_data.drop(['Diagnosis'], axis=1)\n",
        "y = remove_data['Diagnosis']\n",
        "x_train_data, x_test_data, y_train_data, y_test_data = train_test_split(x, y, test_size=0.3, random_state=42)\n",
        "\n",
        "# Обучение модели методом опорных векторов\n",
        "model.fit(x_train_data, y_train_data)\n",
        "\n",
        "# Предсказание\n",
        "predictions = model.predict(x_test_data)\n",
        "\n",
        "# Создание и вывод отчета\n",
        "print(classification_report(y_test_data, predictions))\n",
        "# Создание и вывод точности\n",
        "print(accuracy_score(y_test_data, predictions))"
      ],
      "metadata": {
        "colab": {
          "base_uri": "https://localhost:8080/"
        },
        "id": "ZVuI90iESSkd",
        "outputId": "fe3e0631-7727-46ec-f9fb-c0a41b7a97b9"
      },
      "execution_count": 254,
      "outputs": [
        {
          "output_type": "stream",
          "name": "stdout",
          "text": [
            "              precision    recall  f1-score   support\n",
            "\n",
            "           0       1.00      1.00      1.00       738\n",
            "           1       1.00      1.00      1.00       754\n",
            "           2       1.00      1.00      1.00       758\n",
            "           3       1.00      1.00      1.00       750\n",
            "\n",
            "    accuracy                           1.00      3000\n",
            "   macro avg       1.00      1.00      1.00      3000\n",
            "weighted avg       1.00      1.00      1.00      3000\n",
            "\n",
            "1.0\n"
          ]
        }
      ]
    },
    {
      "cell_type": "markdown",
      "source": [
        "# Лабораторная работа 5\n",
        "\n",
        "[Задание](https://artemiikabanov.notion.site/5-c9a3114f5ba342b298e53f59ec4edcab): Провести классификацию dataset методами решающего дерева и случайного леса."
      ],
      "metadata": {
        "id": "mhNHNKztVTF7"
      }
    },
    {
      "cell_type": "code",
      "source": [
        "import pandas as pd\n",
        "from sklearn.model_selection import train_test_split\n",
        "from sklearn.tree import DecisionTreeClassifier\n",
        "from sklearn.ensemble import RandomForestClassifier\n",
        "from sklearn.metrics import accuracy_score, classification_report\n",
        "from sklearn.preprocessing import LabelEncoder"
      ],
      "metadata": {
        "id": "8LQF3ul4VW1e"
      },
      "execution_count": 209,
      "outputs": []
    },
    {
      "cell_type": "code",
      "source": [
        "data = pd.read_csv('data/Realistic_Medical_Dataset.csv')\n",
        "\n",
        "print(f\"Количество строк: {data.shape[0]}\")\n",
        "print(f\"Количество столбцов: {data.shape[1]}\")\n",
        "print(\"Типы данных:\")\n",
        "print(data.dtypes)"
      ],
      "metadata": {
        "colab": {
          "base_uri": "https://localhost:8080/"
        },
        "id": "Xjhk2HnlaF4B",
        "outputId": "1d175ff6-8111-4b23-9f10-58cbf4246bcc"
      },
      "execution_count": 210,
      "outputs": [
        {
          "output_type": "stream",
          "name": "stdout",
          "text": [
            "Количество строк: 10000\n",
            "Количество столбцов: 15\n",
            "Типы данных:\n",
            "Name                  object\n",
            "Gender                object\n",
            "Diagnosis             object\n",
            "Description           object\n",
            "Doctor                object\n",
            "Hospital              object\n",
            "Department            object\n",
            "Start Date            object\n",
            "End Date              object\n",
            "Blood Type            object\n",
            "Cholesterol Level    float64\n",
            "Blood Sugar Level    float64\n",
            "Pulse                  int64\n",
            "Pressure              object\n",
            "Complaints            object\n",
            "dtype: object\n"
          ]
        }
      ]
    },
    {
      "cell_type": "code",
      "source": [
        "label_encoder = LabelEncoder()\n",
        "decision_tree_model = DecisionTreeClassifier()\n",
        "random_forest_model = RandomForestClassifier()\n",
        "\n",
        "# Преобразование данных\n",
        "for column in data.columns:\n",
        "    if data[column].dtype == 'object':\n",
        "        data[column] = label_encoder.fit_transform(data[column])\n",
        "\n",
        "# Кодирование категориального признака\n",
        "data['Diagnosis'] = label_encoder.fit_transform(data['Diagnosis'])\n",
        "\n",
        "# Выбор признаков (медицинские параметры)\n",
        "features = ['Cholesterol Level', 'Blood Sugar Level', 'Pulse', 'Pressure']\n",
        "\n",
        "X = data[features]\n",
        "y = data['Diagnosis']\n",
        "\n",
        "# Разделение данных на обучающую и тестовую выборку\n",
        "X_train, X_test, y_train, y_test = train_test_split(X, y, test_size=0.3, random_state=42)\n",
        "\n",
        "# Обучение модели решающего дерева\n",
        "decision_tree_model.fit(X_train, y_train)\n",
        "\n",
        "# Обучение модели случайного леса\n",
        "random_forest_model.fit(X_train, y_train)\n",
        "\n",
        "# Предсказание и оценка точности для решающего дерева\n",
        "y_pred_tree = decision_tree_model.predict(X_test)\n",
        "accuracy_tree = accuracy_score(y_test, y_pred_tree)\n",
        "print(classification_report(y_test, y_pred_tree))\n",
        "print(accuracy_tree)\n",
        "\n",
        "# Предсказание и оценка точности для случайного леса\n",
        "y_pred_forest = random_forest_model.predict(X_test)\n",
        "accuracy_forest = accuracy_score(y_test, y_pred_forest)\n",
        "print(classification_report(y_test, y_pred_forest))\n",
        "print(accuracy_forest)\n"
      ],
      "metadata": {
        "colab": {
          "base_uri": "https://localhost:8080/"
        },
        "id": "xwAwQ8EwaJgm",
        "outputId": "15137a5b-70d7-4060-f39a-53eca991af80"
      },
      "execution_count": 255,
      "outputs": [
        {
          "output_type": "stream",
          "name": "stdout",
          "text": [
            "              precision    recall  f1-score   support\n",
            "\n",
            "           0       0.23      0.24      0.23       738\n",
            "           1       0.28      0.28      0.28       754\n",
            "           2       0.23      0.22      0.23       758\n",
            "           3       0.28      0.29      0.28       750\n",
            "\n",
            "    accuracy                           0.26      3000\n",
            "   macro avg       0.26      0.26      0.26      3000\n",
            "weighted avg       0.26      0.26      0.26      3000\n",
            "\n",
            "0.25666666666666665\n",
            "              precision    recall  f1-score   support\n",
            "\n",
            "           0       0.24      0.27      0.26       738\n",
            "           1       0.29      0.28      0.28       754\n",
            "           2       0.26      0.25      0.26       758\n",
            "           3       0.27      0.26      0.27       750\n",
            "\n",
            "    accuracy                           0.27      3000\n",
            "   macro avg       0.27      0.27      0.27      3000\n",
            "weighted avg       0.27      0.27      0.27      3000\n",
            "\n",
            "0.26666666666666666\n"
          ]
        }
      ]
    },
    {
      "cell_type": "markdown",
      "source": [
        "# Лабораторная работа 6\n",
        "\n",
        "[Задание](https://artemiikabanov.notion.site/6-5cd85ebfdbd3460cae3feb81cd219a6c): Провести классификацию dataset методами CatBoost ."
      ],
      "metadata": {
        "id": "5QWg6ut7eI61"
      }
    },
    {
      "cell_type": "code",
      "source": [
        "import pandas as pd\n",
        "from sklearn.model_selection import train_test_split\n",
        "!pip install catboost\n",
        "from catboost import CatBoostClassifier\n",
        "from sklearn.ensemble import RandomForestClassifier\n",
        "from sklearn.metrics import accuracy_score, classification_report\n",
        "from sklearn.preprocessing import LabelEncoder"
      ],
      "metadata": {
        "colab": {
          "base_uri": "https://localhost:8080/"
        },
        "id": "Jaqo5H0mewvh",
        "outputId": "4db0b2ff-1566-4262-a3a5-6e156ad13f40"
      },
      "execution_count": 216,
      "outputs": [
        {
          "output_type": "stream",
          "name": "stdout",
          "text": [
            "Collecting catboost\n",
            "  Downloading catboost-1.2.2-cp310-cp310-manylinux2014_x86_64.whl (98.7 MB)\n",
            "\u001b[2K     \u001b[90m━━━━━━━━━━━━━━━━━━━━━━━━━━━━━━━━━━━━━━━━\u001b[0m \u001b[32m98.7/98.7 MB\u001b[0m \u001b[31m7.2 MB/s\u001b[0m eta \u001b[36m0:00:00\u001b[0m\n",
            "\u001b[?25hRequirement already satisfied: graphviz in /usr/local/lib/python3.10/dist-packages (from catboost) (0.20.1)\n",
            "Requirement already satisfied: matplotlib in /usr/local/lib/python3.10/dist-packages (from catboost) (3.7.1)\n",
            "Requirement already satisfied: numpy>=1.16.0 in /usr/local/lib/python3.10/dist-packages (from catboost) (1.23.5)\n",
            "Requirement already satisfied: pandas>=0.24 in /usr/local/lib/python3.10/dist-packages (from catboost) (1.5.3)\n",
            "Requirement already satisfied: scipy in /usr/local/lib/python3.10/dist-packages (from catboost) (1.11.4)\n",
            "Requirement already satisfied: plotly in /usr/local/lib/python3.10/dist-packages (from catboost) (5.15.0)\n",
            "Requirement already satisfied: six in /usr/local/lib/python3.10/dist-packages (from catboost) (1.16.0)\n",
            "Requirement already satisfied: python-dateutil>=2.8.1 in /usr/local/lib/python3.10/dist-packages (from pandas>=0.24->catboost) (2.8.2)\n",
            "Requirement already satisfied: pytz>=2020.1 in /usr/local/lib/python3.10/dist-packages (from pandas>=0.24->catboost) (2023.3.post1)\n",
            "Requirement already satisfied: contourpy>=1.0.1 in /usr/local/lib/python3.10/dist-packages (from matplotlib->catboost) (1.2.0)\n",
            "Requirement already satisfied: cycler>=0.10 in /usr/local/lib/python3.10/dist-packages (from matplotlib->catboost) (0.12.1)\n",
            "Requirement already satisfied: fonttools>=4.22.0 in /usr/local/lib/python3.10/dist-packages (from matplotlib->catboost) (4.46.0)\n",
            "Requirement already satisfied: kiwisolver>=1.0.1 in /usr/local/lib/python3.10/dist-packages (from matplotlib->catboost) (1.4.5)\n",
            "Requirement already satisfied: packaging>=20.0 in /usr/local/lib/python3.10/dist-packages (from matplotlib->catboost) (23.2)\n",
            "Requirement already satisfied: pillow>=6.2.0 in /usr/local/lib/python3.10/dist-packages (from matplotlib->catboost) (9.4.0)\n",
            "Requirement already satisfied: pyparsing>=2.3.1 in /usr/local/lib/python3.10/dist-packages (from matplotlib->catboost) (3.1.1)\n",
            "Requirement already satisfied: tenacity>=6.2.0 in /usr/local/lib/python3.10/dist-packages (from plotly->catboost) (8.2.3)\n",
            "Installing collected packages: catboost\n",
            "Successfully installed catboost-1.2.2\n"
          ]
        }
      ]
    },
    {
      "cell_type": "code",
      "source": [
        "data = pd.read_csv('data/Realistic_Medical_Dataset.csv')\n",
        "\n",
        "print(f\"Количество строк: {data.shape[0]}\")\n",
        "print(f\"Количество столбцов: {data.shape[1]}\")\n",
        "print(\"Типы данных:\")\n",
        "print(data.dtypes)"
      ],
      "metadata": {
        "colab": {
          "base_uri": "https://localhost:8080/"
        },
        "id": "jUDzdvIEexCR",
        "outputId": "c444fbb6-4061-4a34-f91b-b44be37921dd"
      },
      "execution_count": 217,
      "outputs": [
        {
          "output_type": "stream",
          "name": "stdout",
          "text": [
            "Количество строк: 10000\n",
            "Количество столбцов: 15\n",
            "Типы данных:\n",
            "Name                  object\n",
            "Gender                object\n",
            "Diagnosis             object\n",
            "Description           object\n",
            "Doctor                object\n",
            "Hospital              object\n",
            "Department            object\n",
            "Start Date            object\n",
            "End Date              object\n",
            "Blood Type            object\n",
            "Cholesterol Level    float64\n",
            "Blood Sugar Level    float64\n",
            "Pulse                  int64\n",
            "Pressure              object\n",
            "Complaints            object\n",
            "dtype: object\n"
          ]
        }
      ]
    },
    {
      "cell_type": "code",
      "source": [
        "label_encoder = LabelEncoder()\n",
        "catboost_model = CatBoostClassifier(verbose=0) # verbose=0 отключит логирование процесса обучения\n",
        "\n",
        "# Преобразование данных\n",
        "for column in data.columns:\n",
        "    if data[column].dtype == 'object':\n",
        "        data[column] = label_encoder.fit_transform(data[column])\n",
        "\n",
        "# Выбор признаков (медицинские параметры)\n",
        "features = ['Cholesterol Level', 'Blood Sugar Level', 'Pulse', 'Pressure']\n",
        "\n",
        "X = data[features]\n",
        "y = data['Diagnosis']\n",
        "\n",
        "# Разделение данных на обучающую и тестовую выборку\n",
        "X_train, X_test, y_train, y_test = train_test_split(X, y, test_size=0.3, random_state=42)\n",
        "\n",
        "# Обучение CatBoost классификатора\n",
        "catboost_model.fit(X_train, y_train)\n",
        "\n",
        "# Предсказание и оценка точности\n",
        "y_pred = catboost_model.predict(X_test)\n",
        "accuracy = accuracy_score(y_test, y_pred)\n",
        "print(classification_report(y_test, y_pred))\n",
        "print(accuracy)"
      ],
      "metadata": {
        "colab": {
          "base_uri": "https://localhost:8080/"
        },
        "id": "d7L6Pf5YeLIM",
        "outputId": "87e1f8a6-9fa6-4e3e-efa3-5705a360a915"
      },
      "execution_count": 256,
      "outputs": [
        {
          "output_type": "stream",
          "name": "stdout",
          "text": [
            "              precision    recall  f1-score   support\n",
            "\n",
            "           0       0.24      0.27      0.26       738\n",
            "           1       0.26      0.26      0.26       754\n",
            "           2       0.25      0.24      0.24       758\n",
            "           3       0.26      0.24      0.25       750\n",
            "\n",
            "    accuracy                           0.25      3000\n",
            "   macro avg       0.25      0.25      0.25      3000\n",
            "weighted avg       0.25      0.25      0.25      3000\n",
            "\n",
            "0.25266666666666665\n"
          ]
        }
      ]
    }
  ]
}