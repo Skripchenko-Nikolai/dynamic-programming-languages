{
  "nbformat": 4,
  "nbformat_minor": 0,
  "metadata": {
    "colab": {
      "provenance": [],
      "authorship_tag": "ABX9TyOEv/vXlHxqKuapD69xyEwx"
    },
    "kernelspec": {
      "name": "python3",
      "display_name": "Python 3"
    },
    "language_info": {
      "name": "python"
    }
  },
  "cells": [
    {
      "cell_type": "markdown",
      "source": [
        "#Лабораторная работа **1**\n",
        "\n",
        "[Задание](https://artemiikabanov.notion.site/1-80e692e92f6240d7af807db090400bb6): Найти набор данных и провести классификацию методом k- ближайших соседей."
      ],
      "metadata": {
        "id": "B9aunET3-Wul"
      }
    },
    {
      "cell_type": "code",
      "execution_count": 3,
      "metadata": {
        "colab": {
          "base_uri": "https://localhost:8080/"
        },
        "id": "aoR61_mQCkBI",
        "outputId": "edf169b4-7097-40ef-ef79-d76f7ec59778"
      },
      "outputs": [
        {
          "output_type": "stream",
          "name": "stdout",
          "text": [
            "Requirement already satisfied: catboost in /usr/local/lib/python3.10/dist-packages (1.2.2)\n",
            "Requirement already satisfied: graphviz in /usr/local/lib/python3.10/dist-packages (from catboost) (0.20.1)\n",
            "Requirement already satisfied: matplotlib in /usr/local/lib/python3.10/dist-packages (from catboost) (3.7.1)\n",
            "Requirement already satisfied: numpy>=1.16.0 in /usr/local/lib/python3.10/dist-packages (from catboost) (1.23.5)\n",
            "Requirement already satisfied: pandas>=0.24 in /usr/local/lib/python3.10/dist-packages (from catboost) (1.5.3)\n",
            "Requirement already satisfied: scipy in /usr/local/lib/python3.10/dist-packages (from catboost) (1.11.4)\n",
            "Requirement already satisfied: plotly in /usr/local/lib/python3.10/dist-packages (from catboost) (5.15.0)\n",
            "Requirement already satisfied: six in /usr/local/lib/python3.10/dist-packages (from catboost) (1.16.0)\n",
            "Requirement already satisfied: python-dateutil>=2.8.1 in /usr/local/lib/python3.10/dist-packages (from pandas>=0.24->catboost) (2.8.2)\n",
            "Requirement already satisfied: pytz>=2020.1 in /usr/local/lib/python3.10/dist-packages (from pandas>=0.24->catboost) (2023.3.post1)\n",
            "Requirement already satisfied: contourpy>=1.0.1 in /usr/local/lib/python3.10/dist-packages (from matplotlib->catboost) (1.2.0)\n",
            "Requirement already satisfied: cycler>=0.10 in /usr/local/lib/python3.10/dist-packages (from matplotlib->catboost) (0.12.1)\n",
            "Requirement already satisfied: fonttools>=4.22.0 in /usr/local/lib/python3.10/dist-packages (from matplotlib->catboost) (4.46.0)\n",
            "Requirement already satisfied: kiwisolver>=1.0.1 in /usr/local/lib/python3.10/dist-packages (from matplotlib->catboost) (1.4.5)\n",
            "Requirement already satisfied: packaging>=20.0 in /usr/local/lib/python3.10/dist-packages (from matplotlib->catboost) (23.2)\n",
            "Requirement already satisfied: pillow>=6.2.0 in /usr/local/lib/python3.10/dist-packages (from matplotlib->catboost) (9.4.0)\n",
            "Requirement already satisfied: pyparsing>=2.3.1 in /usr/local/lib/python3.10/dist-packages (from matplotlib->catboost) (3.1.1)\n",
            "Requirement already satisfied: tenacity>=6.2.0 in /usr/local/lib/python3.10/dist-packages (from plotly->catboost) (8.2.3)\n"
          ]
        }
      ],
      "source": [
        "import pandas as pd\n",
        "from sklearn.model_selection import train_test_split, GridSearchCV\n",
        "from sklearn.neighbors import KNeighborsClassifier\n",
        "from sklearn.preprocessing import StandardScaler\n",
        "from sklearn.preprocessing import LabelEncoder\n",
        "from sklearn.metrics import classification_report, accuracy_score, mean_squared_error\n",
        "from sklearn import svm\n",
        "from sklearn.linear_model import LogisticRegression, LinearRegression\n",
        "from sklearn.tree import DecisionTreeClassifier\n",
        "from sklearn.ensemble import RandomForestClassifier\n",
        "!pip install catboost\n",
        "from catboost import CatBoostClassifier\n",
        "from sklearn.naive_bayes import GaussianNB"
      ]
    },
    {
      "cell_type": "code",
      "source": [
        "data = pd.read_csv('data/Realistic_Medical_Dataset.csv')\n",
        "\n",
        "print(f\"Количество строк: {data.shape[0]}\")\n",
        "print(f\"Количество столбцов: {data.shape[1]}\")\n",
        "print(\"Типы данных:\")\n",
        "print(data.dtypes)"
      ],
      "metadata": {
        "colab": {
          "base_uri": "https://localhost:8080/"
        },
        "id": "ndS-PDAE63Wu",
        "outputId": "127f228c-88a8-44c1-c5ca-c44ff6c4b189"
      },
      "execution_count": 4,
      "outputs": [
        {
          "output_type": "stream",
          "name": "stdout",
          "text": [
            "Количество строк: 10000\n",
            "Количество столбцов: 15\n",
            "Типы данных:\n",
            "Name                  object\n",
            "Gender                object\n",
            "Diagnosis             object\n",
            "Description           object\n",
            "Doctor                object\n",
            "Hospital              object\n",
            "Department            object\n",
            "Start Date            object\n",
            "End Date              object\n",
            "Blood Type            object\n",
            "Cholesterol Level    float64\n",
            "Blood Sugar Level    float64\n",
            "Pulse                  int64\n",
            "Pressure              object\n",
            "Complaints            object\n",
            "dtype: object\n"
          ]
        }
      ]
    },
    {
      "cell_type": "code",
      "source": [
        "scaler = StandardScaler()\n",
        "label_encoder = LabelEncoder()\n",
        "model = KNeighborsClassifier()\n",
        "\n",
        "# target - Diagonesn, поэтому убираем из датасета этот параметр\n",
        "remove_data = data.drop(['Diagnosis'], axis=1)\n",
        "\n",
        "# Преобразование данных\n",
        "for column in remove_data.columns:\n",
        "    if remove_data[column].dtype == 'object':\n",
        "        remove_data[column] = label_encoder.fit_transform(remove_data[column])\n",
        "\n",
        "# Обучение Scarler и стандартизация признаков\n",
        "scaler.fit(remove_data)\n",
        "scaled_features = scaler.transform(remove_data)\n",
        "scaled_data = pd.DataFrame(scaled_features, columns = remove_data.columns)\n",
        "\n",
        "# Разделение датасета на обучающиеся и тестовые данные\n",
        "x = scaled_data\n",
        "y = data['Diagnosis']\n",
        "x_train_data, x_test_data, y_train_data, y_test_data = train_test_split(x, y, test_size=0.3, random_state=42)\n",
        "\n",
        "# Настройка параметров\n",
        "param_grid = {'n_neighbors': list(range(2, 11)), 'metric': ['euclidean', 'manhattan', 'chebyshev', 'minkowski']}\n",
        "\n",
        "# Создание объекта GridSearch с кросс-валидацией\n",
        "grid_search = GridSearchCV(model, param_grid, cv=5)\n",
        "\n",
        "# Обучение GridSearch для поиска лучших параметров\n",
        "grid_search.fit(x_train_data, y_train_data)\n",
        "\n",
        "# Получение лучших параметров и модели с этими параметрами\n",
        "best_params = grid_search.best_params_\n",
        "best_knn = grid_search.best_estimator_\n",
        "\n",
        "# Получение имен из тестового набора данных\n",
        "names_test = data.loc[x_test_data.index]['Name'].values\n",
        "\n",
        "# Предсказания на тестовой выборке с использованием лучшей модели\n",
        "predictions = best_knn.predict(x_test_data)\n",
        "\n",
        "# Оценка точности лучшей модели\n",
        "print(f\"\\nЛучшие параметры: {best_params}\")\n",
        "\n",
        "# Создание и вывод отчета и точности\n",
        "print(classification_report(y_test_data, predictions))\n",
        "print(accuracy_score(y_test_data, predictions))"
      ],
      "metadata": {
        "colab": {
          "base_uri": "https://localhost:8080/"
        },
        "id": "_6v30tOkiovD",
        "outputId": "3381f1d4-0752-4b2e-8a90-00b3e2efc17b"
      },
      "execution_count": 5,
      "outputs": [
        {
          "output_type": "stream",
          "name": "stdout",
          "text": [
            "\n",
            "Лучшие параметры: {'metric': 'manhattan', 'n_neighbors': 10}\n",
            "              precision    recall  f1-score   support\n",
            "\n",
            "      Asthma       0.92      0.97      0.94       738\n",
            "  Depression       0.93      0.97      0.95       754\n",
            "    Diabetes       0.90      0.88      0.89       758\n",
            "Hypertension       0.92      0.85      0.89       750\n",
            "\n",
            "    accuracy                           0.92      3000\n",
            "   macro avg       0.92      0.92      0.92      3000\n",
            "weighted avg       0.92      0.92      0.92      3000\n",
            "\n",
            "0.917\n"
          ]
        }
      ]
    },
    {
      "cell_type": "markdown",
      "source": [
        "# Лабораторная работа 2\n",
        "\n",
        "[Задание](https://artemiikabanov.notion.site/2-ffac675dbf1f408a9f23e71889d70d61): Провести классификацию dataset методом машины опорных векторов."
      ],
      "metadata": {
        "id": "mvfL6Sgp-rdK"
      }
    },
    {
      "cell_type": "code",
      "source": [
        "data = pd.read_csv('data/Realistic_Medical_Dataset.csv')\n",
        "\n",
        "print(f\"Количество строк: {data.shape[0]}\")\n",
        "print(f\"Количество столбцов: {data.shape[1]}\")\n",
        "print(\"Типы данных:\")\n",
        "print(data.dtypes)"
      ],
      "metadata": {
        "colab": {
          "base_uri": "https://localhost:8080/"
        },
        "id": "5I-rrIYnnYy-",
        "outputId": "4aca59ea-90de-42eb-cde2-3bd7686165b8"
      },
      "execution_count": 6,
      "outputs": [
        {
          "output_type": "stream",
          "name": "stdout",
          "text": [
            "Количество строк: 10000\n",
            "Количество столбцов: 15\n",
            "Типы данных:\n",
            "Name                  object\n",
            "Gender                object\n",
            "Diagnosis             object\n",
            "Description           object\n",
            "Doctor                object\n",
            "Hospital              object\n",
            "Department            object\n",
            "Start Date            object\n",
            "End Date              object\n",
            "Blood Type            object\n",
            "Cholesterol Level    float64\n",
            "Blood Sugar Level    float64\n",
            "Pulse                  int64\n",
            "Pressure              object\n",
            "Complaints            object\n",
            "dtype: object\n"
          ]
        }
      ]
    },
    {
      "cell_type": "code",
      "source": [
        "scaler = StandardScaler()\n",
        "label_encoder = LabelEncoder()\n",
        "model = svm.SVC(kernel='poly', degree=2)\n",
        "\n",
        "# target - Diagonesn, поэтому убираем из датасета этот параметр\n",
        "new_data = data.drop(['Diagnosis'], axis=1)\n",
        "\n",
        "# Преобразование данных\n",
        "for column in new_data.columns:\n",
        "    if new_data[column].dtype == 'object':\n",
        "        new_data[column] = label_encoder.fit_transform(new_data[column])\n",
        "\n",
        "# Обучение scaler и стандартизация признаков\n",
        "scaler.fit(new_data)\n",
        "scaled_features = scaler.transform(new_data)\n",
        "scaled_data = pd.DataFrame(scaled_features, columns = new_data.columns)\n",
        "\n",
        "# Разделение датасета на обучающиеся и тестовые данные\n",
        "x = scaled_data\n",
        "y = data['Diagnosis']\n",
        "x_train_data, x_test_data, y_train_data, y_test_data = train_test_split(x, y, test_size=0.3, random_state=42)\n",
        "\n",
        "# Указание гиперпараметров и их значений для поиска\n",
        "param_grid = {\n",
        "    'C': [0.001, 0.01, 0.1, 1, 10],\n",
        "    'kernel': ['linear', 'rbf', 'sigmoid'],\n",
        "    'gamma': [0.1, 1, 10]}\n",
        "\n",
        "# Создание объекта GridSearch\n",
        "grid_search = GridSearchCV(model, param_grid, cv=5)\n",
        "\n",
        "# Обучение GridSearch\n",
        "grid_search.fit(x_train_data, y_train_data)\n",
        "\n",
        "# Получение лучших параметров и модели\n",
        "best_params = grid_search.best_params_\n",
        "best_svm = grid_search.best_estimator_\n",
        "\n",
        "print(f'Лучшие параметры: {best_params}')\n",
        "\n",
        "# Создание прогнозов с использованием лучшей модели\n",
        "y_pred = best_svm.predict(x_test_data)\n",
        "\n",
        "# Создание и вывод отчета и точности\n",
        "print(classification_report(y_test_data, y_pred, zero_division=1))\n",
        "print(accuracy_score(y_test_data, predictions))"
      ],
      "metadata": {
        "colab": {
          "base_uri": "https://localhost:8080/"
        },
        "id": "tqYyCgosBD1-",
        "outputId": "94b0654f-ed10-4161-c483-cfc10d3a3f78"
      },
      "execution_count": 7,
      "outputs": [
        {
          "output_type": "stream",
          "name": "stdout",
          "text": [
            "Лучшие параметры: {'C': 0.01, 'gamma': 0.1, 'kernel': 'linear'}\n",
            "              precision    recall  f1-score   support\n",
            "\n",
            "      Asthma       1.00      1.00      1.00       738\n",
            "  Depression       1.00      1.00      1.00       754\n",
            "    Diabetes       1.00      1.00      1.00       758\n",
            "Hypertension       1.00      1.00      1.00       750\n",
            "\n",
            "    accuracy                           1.00      3000\n",
            "   macro avg       1.00      1.00      1.00      3000\n",
            "weighted avg       1.00      1.00      1.00      3000\n",
            "\n",
            "0.917\n"
          ]
        }
      ]
    },
    {
      "cell_type": "markdown",
      "source": [
        "# Лабораторная работа 3\n",
        "\n",
        "[Задание](https://artemiikabanov.notion.site/3-683008e8b83f4926b099cc4efb64e600): Провести классификацию dataset методами линейной и логической регрессий."
      ],
      "metadata": {
        "id": "Iqdpp4VzB19r"
      }
    },
    {
      "cell_type": "code",
      "source": [
        "data = pd.read_csv('data/Realistic_Medical_Dataset.csv')\n",
        "\n",
        "print(f\"Количество строк: {data.shape[0]}\")\n",
        "print(f\"Количество столбцов: {data.shape[1]}\")\n",
        "print(\"Типы данных:\")\n",
        "print(data.dtypes)"
      ],
      "metadata": {
        "colab": {
          "base_uri": "https://localhost:8080/"
        },
        "id": "gqBVw7g9B_bS",
        "outputId": "ee36d0fa-2c83-45a5-fe5c-d6651a702dbf"
      },
      "execution_count": 8,
      "outputs": [
        {
          "output_type": "stream",
          "name": "stdout",
          "text": [
            "Количество строк: 10000\n",
            "Количество столбцов: 15\n",
            "Типы данных:\n",
            "Name                  object\n",
            "Gender                object\n",
            "Diagnosis             object\n",
            "Description           object\n",
            "Doctor                object\n",
            "Hospital              object\n",
            "Department            object\n",
            "Start Date            object\n",
            "End Date              object\n",
            "Blood Type            object\n",
            "Cholesterol Level    float64\n",
            "Blood Sugar Level    float64\n",
            "Pulse                  int64\n",
            "Pressure              object\n",
            "Complaints            object\n",
            "dtype: object\n"
          ]
        }
      ]
    },
    {
      "cell_type": "code",
      "source": [
        "scaler_lin = StandardScaler()\n",
        "scaler_log = StandardScaler()\n",
        "model_lin = LinearRegression()\n",
        "model_log = LogisticRegression(penalty='l2', C=1.0, solver='lbfgs', max_iter=1000)\n",
        "\n",
        "# Преобразование данных\n",
        "for column in new_data.columns:\n",
        "    if data[column].dtype == 'object':\n",
        "        data[column] = label_encoder.fit_transform(data[column])\n",
        "\n",
        "# Линейная регрессия для предсказания уровня холестерина на основе других признаков, а именно пол, пульс, давление, уровень сахара в крови\n",
        "# Предварительная обработка данных для линейной регрессии\n",
        "features_lin = ['Gender', 'Pulse', 'Pressure', 'Blood Sugar Level']\n",
        "target_lin = 'Cholesterol Level'\n",
        "\n",
        "# Разделение данных на признаки и целевую переменную\n",
        "X_lin = data[features_lin]\n",
        "y_lin = data[target_lin]\n",
        "\n",
        "# Разделение на обучающую и тестовую выборку\n",
        "X_train_lin, X_test_lin, y_train_lin, y_test_lin = train_test_split(X_lin, y_lin, test_size=0.3, random_state=42)\n",
        "\n",
        "# Масштабирование числовых данных\n",
        "X_train_lin = scaler_lin.fit_transform(X_train_lin)\n",
        "X_test_lin = scaler_lin.transform(X_test_lin)\n",
        "\n",
        "# Обучение модели линейной регрессии\n",
        "model_lin.fit(X_train_lin, y_train_lin)\n",
        "\n",
        "# Предсказание и оценка модели линейной регрессии\n",
        "y_pred_lin = model_lin.predict(X_test_lin)\n",
        "mse_lin = mean_squared_error(y_test_lin, y_pred_lin)\n",
        "\n",
        "# Среднеквадратичная ошибка\n",
        "print(mse_lin)\n",
        "\n",
        "# Логистическая регрессия для классификации наличия гипертонии на основе медицинских показателей\n",
        "# Предварительная обработка данных для логистической регрессии\n",
        "data['Is_Hypertension'] = data['Diagnosis'].apply(lambda x: 1 if x == 'Hypertension' else 0)\n",
        "\n",
        "features_log = ['Gender', 'Cholesterol Level', 'Blood Sugar Level', 'Pulse', 'Pressure']\n",
        "target_log = 'Is_Hypertension'\n",
        "\n",
        "X_log = data[features_log]\n",
        "y_log = data[target_log]\n",
        "\n",
        "# Разделение на обучающую и тестовую выборку\n",
        "X_train_log, X_test_log, y_train_log, y_test_log = train_test_split(X_log, y_log, test_size=0.3, random_state=42)\n",
        "\n",
        "# Масштабирование числовых данных\n",
        "X_train_log = scaler_log.fit_transform(X_train_log)\n",
        "X_test_log = scaler_log.transform(X_test_log)\n",
        "\n",
        "# Обучение модели логистической регрессии\n",
        "model_log.fit(X_train_log, y_train_log)\n",
        "\n",
        "# Предсказание и оценка модели логистической регрессии\n",
        "y_pred_log = model_log.predict(X_test_log)\n",
        "accuracy_log = accuracy_score(y_test_log, y_pred_log)\n",
        "\n",
        "# Вывод отчета\n",
        "print(classification_report(y_test_log, y_pred_log, zero_division=1))\n",
        "# Вывод точности\n",
        "print(accuracy_log)"
      ],
      "metadata": {
        "colab": {
          "base_uri": "https://localhost:8080/"
        },
        "id": "mb-FTlZSCB0K",
        "outputId": "5bf1174f-4a9c-424f-d905-278a60fcc0f1"
      },
      "execution_count": 9,
      "outputs": [
        {
          "output_type": "stream",
          "name": "stdout",
          "text": [
            "664.3682414385165\n",
            "              precision    recall  f1-score   support\n",
            "\n",
            "           0       0.75      1.00      0.86      2250\n",
            "           1       1.00      0.00      0.00       750\n",
            "\n",
            "    accuracy                           0.75      3000\n",
            "   macro avg       0.88      0.50      0.43      3000\n",
            "weighted avg       0.81      0.75      0.64      3000\n",
            "\n",
            "0.75\n"
          ]
        }
      ]
    },
    {
      "cell_type": "markdown",
      "source": [
        "# Лабораторная работа 4\n",
        "\n",
        "[Задание](https://artemiikabanov.notion.site/4-2cfb349132074514a002749efac0bf8d): Провести классификацию dataset методами наивного Байеса."
      ],
      "metadata": {
        "id": "amF1umgFRuGm"
      }
    },
    {
      "cell_type": "code",
      "source": [
        "import pandas as pd\n",
        "from sklearn.model_selection import train_test_split\n",
        "from sklearn.neighbors import KNeighborsClassifier\n",
        "from sklearn.preprocessing import StandardScaler\n",
        "from sklearn.preprocessing import LabelEncoder\n",
        "from sklearn.metrics import classification_report, accuracy_score\n",
        "from sklearn.naive_bayes import GaussianNB"
      ],
      "metadata": {
        "id": "BM4wmoYRRy8Z"
      },
      "execution_count": 10,
      "outputs": []
    },
    {
      "cell_type": "code",
      "source": [
        "data = pd.read_csv('data/Realistic_Medical_Dataset.csv')\n",
        "\n",
        "print(f\"Количество строк: {data.shape[0]}\")\n",
        "print(f\"Количество столбцов: {data.shape[1]}\")\n",
        "print(\"Типы данных:\")\n",
        "print(data.dtypes)"
      ],
      "metadata": {
        "colab": {
          "base_uri": "https://localhost:8080/"
        },
        "id": "LSGchbvSSQbM",
        "outputId": "46be6f92-c864-4b19-a68c-2f0f76c74810"
      },
      "execution_count": 11,
      "outputs": [
        {
          "output_type": "stream",
          "name": "stdout",
          "text": [
            "Количество строк: 10000\n",
            "Количество столбцов: 15\n",
            "Типы данных:\n",
            "Name                  object\n",
            "Gender                object\n",
            "Diagnosis             object\n",
            "Description           object\n",
            "Doctor                object\n",
            "Hospital              object\n",
            "Department            object\n",
            "Start Date            object\n",
            "End Date              object\n",
            "Blood Type            object\n",
            "Cholesterol Level    float64\n",
            "Blood Sugar Level    float64\n",
            "Pulse                  int64\n",
            "Pressure              object\n",
            "Complaints            object\n",
            "dtype: object\n"
          ]
        }
      ]
    },
    {
      "cell_type": "code",
      "source": [
        "label_encoder = LabelEncoder()\n",
        "model = GaussianNB()\n",
        "\n",
        "# Удаление ненужных признаков\n",
        "remove_data = data.drop(['Name', 'Hospital', 'Department', 'Start Date', 'End Date'], axis=1)\n",
        "\n",
        "# Преобразование данных\n",
        "for column in remove_data.columns:\n",
        "    if remove_data[column].dtype == 'object':\n",
        "        remove_data[column] = label_encoder.fit_transform(remove_data[column])\n",
        "\n",
        "# Разделение датасета на обучающиеся и тестовые данные\n",
        "x = remove_data.drop(['Diagnosis'], axis=1)\n",
        "y = remove_data['Diagnosis']\n",
        "x_train_data, x_test_data, y_train_data, y_test_data = train_test_split(x, y, test_size=0.3, random_state=42)\n",
        "\n",
        "# Обучение модели методом опорных векторов\n",
        "model.fit(x_train_data, y_train_data)\n",
        "\n",
        "# Предсказание\n",
        "predictions = model.predict(x_test_data)\n",
        "\n",
        "# Создание и вывод отчета\n",
        "print(classification_report(y_test_data, predictions))\n",
        "# Создание и вывод точности\n",
        "print(accuracy_score(y_test_data, predictions))"
      ],
      "metadata": {
        "colab": {
          "base_uri": "https://localhost:8080/"
        },
        "id": "ZVuI90iESSkd",
        "outputId": "86e2f472-d7a8-4666-e4db-7e5d8eae0b17"
      },
      "execution_count": 12,
      "outputs": [
        {
          "output_type": "stream",
          "name": "stdout",
          "text": [
            "              precision    recall  f1-score   support\n",
            "\n",
            "           0       1.00      1.00      1.00       738\n",
            "           1       1.00      1.00      1.00       754\n",
            "           2       1.00      1.00      1.00       758\n",
            "           3       1.00      1.00      1.00       750\n",
            "\n",
            "    accuracy                           1.00      3000\n",
            "   macro avg       1.00      1.00      1.00      3000\n",
            "weighted avg       1.00      1.00      1.00      3000\n",
            "\n",
            "1.0\n"
          ]
        }
      ]
    },
    {
      "cell_type": "markdown",
      "source": [
        "# Лабораторная работа 5\n",
        "\n",
        "[Задание](https://artemiikabanov.notion.site/5-c9a3114f5ba342b298e53f59ec4edcab): Провести классификацию dataset методами решающего дерева и случайного леса."
      ],
      "metadata": {
        "id": "mhNHNKztVTF7"
      }
    },
    {
      "cell_type": "code",
      "source": [
        "data = pd.read_csv('data/Realistic_Medical_Dataset.csv')\n",
        "\n",
        "print(f\"Количество строк: {data.shape[0]}\")\n",
        "print(f\"Количество столбцов: {data.shape[1]}\")\n",
        "print(\"Типы данных:\")\n",
        "print(data.dtypes)"
      ],
      "metadata": {
        "colab": {
          "base_uri": "https://localhost:8080/"
        },
        "id": "Xjhk2HnlaF4B",
        "outputId": "a22cfa0c-0e25-4d84-ea12-6efcea50717b"
      },
      "execution_count": 13,
      "outputs": [
        {
          "output_type": "stream",
          "name": "stdout",
          "text": [
            "Количество строк: 10000\n",
            "Количество столбцов: 15\n",
            "Типы данных:\n",
            "Name                  object\n",
            "Gender                object\n",
            "Diagnosis             object\n",
            "Description           object\n",
            "Doctor                object\n",
            "Hospital              object\n",
            "Department            object\n",
            "Start Date            object\n",
            "End Date              object\n",
            "Blood Type            object\n",
            "Cholesterol Level    float64\n",
            "Blood Sugar Level    float64\n",
            "Pulse                  int64\n",
            "Pressure              object\n",
            "Complaints            object\n",
            "dtype: object\n"
          ]
        }
      ]
    },
    {
      "cell_type": "code",
      "source": [
        "label_encoder = LabelEncoder()\n",
        "decision_tree_model = DecisionTreeClassifier(random_state=42)\n",
        "random_forest_model = RandomForestClassifier()\n",
        "\n",
        "# Преобразование данных\n",
        "for column in data.columns:\n",
        "    if data[column].dtype == 'object':\n",
        "        data[column] = label_encoder.fit_transform(data[column])\n",
        "\n",
        "# Кодирование категориального признака\n",
        "data['Diagnosis'] = label_encoder.fit_transform(data['Diagnosis'])\n",
        "\n",
        "# Выбор признаков (медицинские параметры)\n",
        "features = ['Cholesterol Level', 'Blood Sugar Level', 'Pulse', 'Pressure']\n",
        "\n",
        "X = data[features]\n",
        "y = data['Diagnosis']\n",
        "\n",
        "# Разделение данных на обучающую и тестовую выборку\n",
        "X_train, X_test, y_train, y_test = train_test_split(X, y, test_size=0.3, random_state=42)\n",
        "\n",
        "# Настройка гиперпараметров для решающего дерева\n",
        "params_dt = {\n",
        "    'max_depth': [3, 5, 7, 10],\n",
        "    'min_samples_split': [2, 5, 10],\n",
        "    'min_samples_leaf': [1, 2, 4]\n",
        "}\n",
        "# Настройка гиперпараметров для случайного дерева\n",
        "params_rf = {\n",
        "    'n_estimators': [50, 100],\n",
        "    'max_depth': [None, 5],\n",
        "    'min_samples_split': [2, 5],\n",
        "    'min_samples_leaf': [1]\n",
        "}\n",
        "\n",
        "#Создание и обучение GridSearch для решающего дерева\n",
        "grid_search_dt = GridSearchCV(decision_tree_model, params_dt, cv=5)\n",
        "grid_search_dt.fit(X_train, y_train)\n",
        "best_decision_tree = grid_search_dt.best_estimator_\n",
        "\n",
        "#Создание и обучение GridSearch для случайного дерева\n",
        "grid_search_rf = GridSearchCV(random_forest_model, params_rf, cv=5)\n",
        "grid_search_rf.fit(X_train, y_train)\n",
        "best_random_forest = grid_search_rf.best_estimator_\n",
        "\n",
        "# Предсказание и оценка точности для решающего дерева\n",
        "y_pred_tree = best_decision_tree.predict(X_test)\n",
        "accuracy_tree = accuracy_score(y_test, y_pred_tree)\n",
        "print(\"Лучшие параметры для решающего дерева:\", grid_search_dt.best_params_)\n",
        "print(classification_report(y_test, y_pred_tree))\n",
        "print(accuracy_tree)\n",
        "\n",
        "# Предсказание и оценка точности для случайного леса\n",
        "y_pred_forest = best_random_forest.predict(X_test)\n",
        "accuracy_forest = accuracy_score(y_test, y_pred_forest)\n",
        "print(\"\\nЛушчие параметры для случайного леса:\", grid_search_rf.best_params_)\n",
        "print(classification_report(y_test, y_pred_forest))\n",
        "print(accuracy_forest)\n"
      ],
      "metadata": {
        "colab": {
          "base_uri": "https://localhost:8080/"
        },
        "id": "xwAwQ8EwaJgm",
        "outputId": "69ec22a0-4134-4e23-a4d1-3c8fb67939ad"
      },
      "execution_count": 15,
      "outputs": [
        {
          "output_type": "stream",
          "name": "stdout",
          "text": [
            "Лучшие параметры для решающего дерева: {'max_depth': 10, 'min_samples_leaf': 1, 'min_samples_split': 2}\n",
            "              precision    recall  f1-score   support\n",
            "\n",
            "           0       0.24      0.25      0.25       738\n",
            "           1       0.26      0.20      0.23       754\n",
            "           2       0.24      0.16      0.19       758\n",
            "           3       0.24      0.36      0.29       750\n",
            "\n",
            "    accuracy                           0.24      3000\n",
            "   macro avg       0.24      0.24      0.24      3000\n",
            "weighted avg       0.24      0.24      0.24      3000\n",
            "\n",
            "0.24333333333333335\n",
            "\n",
            "Лушчие параметры для случайного леса: {'max_depth': None, 'min_samples_leaf': 1, 'min_samples_split': 2, 'n_estimators': 50}\n",
            "              precision    recall  f1-score   support\n",
            "\n",
            "           0       0.23      0.26      0.24       738\n",
            "           1       0.27      0.27      0.27       754\n",
            "           2       0.26      0.25      0.25       758\n",
            "           3       0.26      0.24      0.25       750\n",
            "\n",
            "    accuracy                           0.26      3000\n",
            "   macro avg       0.26      0.26      0.26      3000\n",
            "weighted avg       0.26      0.26      0.26      3000\n",
            "\n",
            "0.255\n"
          ]
        }
      ]
    },
    {
      "cell_type": "markdown",
      "source": [
        "# Лабораторная работа 6\n",
        "\n",
        "[Задание](https://artemiikabanov.notion.site/6-5cd85ebfdbd3460cae3feb81cd219a6c): Провести классификацию dataset методами CatBoost ."
      ],
      "metadata": {
        "id": "5QWg6ut7eI61"
      }
    },
    {
      "cell_type": "code",
      "source": [
        "data = pd.read_csv('data/Realistic_Medical_Dataset.csv')\n",
        "\n",
        "print(f\"Количество строк: {data.shape[0]}\")\n",
        "print(f\"Количество столбцов: {data.shape[1]}\")\n",
        "print(\"Типы данных:\")\n",
        "print(data.dtypes)"
      ],
      "metadata": {
        "colab": {
          "base_uri": "https://localhost:8080/"
        },
        "id": "jUDzdvIEexCR",
        "outputId": "0848ab22-634e-4bc5-dfd5-efe994c80bf2"
      },
      "execution_count": 16,
      "outputs": [
        {
          "output_type": "stream",
          "name": "stdout",
          "text": [
            "Количество строк: 10000\n",
            "Количество столбцов: 15\n",
            "Типы данных:\n",
            "Name                  object\n",
            "Gender                object\n",
            "Diagnosis             object\n",
            "Description           object\n",
            "Doctor                object\n",
            "Hospital              object\n",
            "Department            object\n",
            "Start Date            object\n",
            "End Date              object\n",
            "Blood Type            object\n",
            "Cholesterol Level    float64\n",
            "Blood Sugar Level    float64\n",
            "Pulse                  int64\n",
            "Pressure              object\n",
            "Complaints            object\n",
            "dtype: object\n"
          ]
        }
      ]
    },
    {
      "cell_type": "code",
      "source": [
        "label_encoder = LabelEncoder()\n",
        "catboost_model = CatBoostClassifier(verbose=0)\n",
        "\n",
        "# Преобразование данных\n",
        "for column in data.columns:\n",
        "    if data[column].dtype == 'object':\n",
        "        data[column] = label_encoder.fit_transform(data[column])\n",
        "\n",
        "# Выбор признаков (медицинские параметры)\n",
        "features = ['Cholesterol Level', 'Blood Sugar Level', 'Pulse', 'Pressure']\n",
        "\n",
        "X = data[features]\n",
        "y = data['Diagnosis']\n",
        "\n",
        "# Разделение данных на обучающую и тестовую выборку\n",
        "X_train, X_test, y_train, y_test = train_test_split(X, y, test_size=0.3, random_state=42)\n",
        "\n",
        "# Определение параметров для поиска\n",
        "param_grid = {\n",
        "    'iterations': [100, 200,],\n",
        "    'learning_rate': [0.01, 0.1],\n",
        "    'depth': [3, 6],\n",
        "    'loss_function': ['MultiClass']\n",
        "}\n",
        "\n",
        "# Создание объекта GridSearchCV для модели\n",
        "grid_search = GridSearchCV(\n",
        "    estimator=CatBoostClassifier(verbose=False),\n",
        "    param_grid=param_grid,\n",
        "    cv=5,\n",
        "    n_jobs=-1\n",
        ")\n",
        "\n",
        "# Подгонка модели к данным\n",
        "grid_search.fit(X_train, y_train)\n",
        "\n",
        "# Получение лучших параметров и оценщика с лучшими параметрами\n",
        "best_params = grid_search.best_params_\n",
        "best_model = grid_search.best_estimator_\n",
        "\n",
        "print(f'Лучшие параметры: {best_params}')\n",
        "\n",
        "# Получение прогнозов с использованием лучшей модели\n",
        "y_pred = best_model.predict(X_test)\n",
        "\n",
        "accuracy = accuracy_score(y_test, y_pred)\n",
        "print(classification_report(y_test, y_pred, zero_division=1))\n",
        "print(accuracy)"
      ],
      "metadata": {
        "colab": {
          "base_uri": "https://localhost:8080/"
        },
        "id": "d7L6Pf5YeLIM",
        "outputId": "3541e021-cbe6-4be3-d2cc-001a7629d4b6"
      },
      "execution_count": 17,
      "outputs": [
        {
          "output_type": "stream",
          "name": "stdout",
          "text": [
            "Лучшие параметры: {'depth': 3, 'iterations': 200, 'learning_rate': 0.01, 'loss_function': 'MultiClass'}\n",
            "              precision    recall  f1-score   support\n",
            "\n",
            "           0       0.25      0.42      0.31       738\n",
            "           1       0.25      0.15      0.19       754\n",
            "           2       0.25      0.17      0.20       758\n",
            "           3       0.25      0.28      0.26       750\n",
            "\n",
            "    accuracy                           0.25      3000\n",
            "   macro avg       0.25      0.25      0.24      3000\n",
            "weighted avg       0.25      0.25      0.24      3000\n",
            "\n",
            "0.251\n"
          ]
        }
      ]
    }
  ]
}